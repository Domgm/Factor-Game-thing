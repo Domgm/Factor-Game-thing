{
  "nbformat": 4,
  "nbformat_minor": 0,
  "metadata": {
    "colab": {
      "provenance": []
    },
    "kernelspec": {
      "name": "python3",
      "display_name": "Python 3"
    },
    "language_info": {
      "name": "python"
    }
  },
  "cells": [
    {
      "cell_type": "code",
      "execution_count": null,
      "metadata": {
        "id": "EH-zqMr85T8a"
      },
      "outputs": [],
      "source": [
        "def is_prime(num):\n",
        "    if num < 2:\n",
        "        return False\n",
        "    for i in range(2, int(num**0.5) + 1):\n",
        "        if num % i == 0:\n",
        "            return False\n",
        "    return True\n",
        "\n",
        "def get_factors(num):\n",
        "    factors = []\n",
        "    for i in range(1, num//2 + 1):\n",
        "        if num % i == 0:\n",
        "            factors.append(i)\n",
        "    return factors\n",
        "\n",
        "def find_previous_prime(n):\n",
        "    while True:\n",
        "        n -= 1\n",
        "        if is_prime(n):\n",
        "            return n\n",
        "\n",
        "def is_odd_composite(num):\n",
        "    return num % 2 != 0 and not is_prime(num)\n",
        "\n",
        "def main():\n",
        "    n = 9\n",
        "    failure_found = False\n",
        "    while True:\n",
        "        if is_odd_composite(n):\n",
        "            p_k = find_previous_prime(n)\n",
        "            factors = get_factors(n)\n",
        "            if p_k - 1 > n - sum(f for f in factors if f != n):\n",
        "                print(f\"Success for N = {n}\")\n",
        "            else:\n",
        "                print(f\"Failure for N = {n}\")\n",
        "                failure_found = True\n",
        "                break\n",
        "                end()\n",
        "        n += 2\n",
        "    if failure_found:\n",
        "        print(\"Failure detected. Stopping the program.\")\n",
        "                end()\n",
        "if __name__ == \"__main__\":\n",
        "    main()"
      ]
    }
  ]
}